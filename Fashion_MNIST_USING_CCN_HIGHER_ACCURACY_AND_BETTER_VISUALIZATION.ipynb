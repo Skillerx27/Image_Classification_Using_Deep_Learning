{
  "nbformat": 4,
  "nbformat_minor": 0,
  "metadata": {
    "colab": {
      "name": "Fashion_MNIST_CNN_CCN.ipynb",
      "provenance": [],
      "collapsed_sections": []
    },
    "kernelspec": {
      "name": "python3",
      "display_name": "Python 3"
    },
    "accelerator": "GPU"
  },
  "cells": [
    {
      "cell_type": "code",
      "metadata": {
        "id": "cxQ_gNOXHCCO",
        "colab_type": "code",
        "outputId": "795921c7-6f14-407d-ed76-4ec18107e97b",
        "colab": {
          "base_uri": "https://localhost:8080/",
          "height": 490
        }
      },
      "source": [
        "#Install and import dependencies\n",
        "!pip install -U tensorflow_datasets"
      ],
      "execution_count": 1,
      "outputs": [
        {
          "output_type": "stream",
          "text": [
            "Collecting tensorflow_datasets\n",
            "\u001b[?25l  Downloading https://files.pythonhosted.org/packages/76/41/8404fabb295025c1ced13bb150246f75770619889d8637afa523a4d09cdb/tensorflow_datasets-3.0.0-py3-none-any.whl (3.3MB)\n",
            "\u001b[K     |████████████████████████████████| 3.3MB 2.8MB/s \n",
            "\u001b[?25hRequirement already satisfied, skipping upgrade: protobuf>=3.6.1 in /usr/local/lib/python3.6/dist-packages (from tensorflow_datasets) (3.10.0)\n",
            "Requirement already satisfied, skipping upgrade: numpy in /usr/local/lib/python3.6/dist-packages (from tensorflow_datasets) (1.18.2)\n",
            "Requirement already satisfied, skipping upgrade: tqdm in /usr/local/lib/python3.6/dist-packages (from tensorflow_datasets) (4.38.0)\n",
            "Requirement already satisfied, skipping upgrade: future in /usr/local/lib/python3.6/dist-packages (from tensorflow_datasets) (0.16.0)\n",
            "Requirement already satisfied, skipping upgrade: attrs>=18.1.0 in /usr/local/lib/python3.6/dist-packages (from tensorflow_datasets) (19.3.0)\n",
            "Requirement already satisfied, skipping upgrade: wrapt in /usr/local/lib/python3.6/dist-packages (from tensorflow_datasets) (1.12.1)\n",
            "Requirement already satisfied, skipping upgrade: tensorflow-metadata in /usr/local/lib/python3.6/dist-packages (from tensorflow_datasets) (0.21.2)\n",
            "Requirement already satisfied, skipping upgrade: six in /usr/local/lib/python3.6/dist-packages (from tensorflow_datasets) (1.12.0)\n",
            "Requirement already satisfied, skipping upgrade: promise in /usr/local/lib/python3.6/dist-packages (from tensorflow_datasets) (2.3)\n",
            "Requirement already satisfied, skipping upgrade: absl-py in /usr/local/lib/python3.6/dist-packages (from tensorflow_datasets) (0.9.0)\n",
            "Requirement already satisfied, skipping upgrade: termcolor in /usr/local/lib/python3.6/dist-packages (from tensorflow_datasets) (1.1.0)\n",
            "Requirement already satisfied, skipping upgrade: requests>=2.19.0 in /usr/local/lib/python3.6/dist-packages (from tensorflow_datasets) (2.21.0)\n",
            "Requirement already satisfied, skipping upgrade: dill in /usr/local/lib/python3.6/dist-packages (from tensorflow_datasets) (0.3.1.1)\n",
            "Requirement already satisfied, skipping upgrade: setuptools in /usr/local/lib/python3.6/dist-packages (from protobuf>=3.6.1->tensorflow_datasets) (46.1.3)\n",
            "Requirement already satisfied, skipping upgrade: googleapis-common-protos in /usr/local/lib/python3.6/dist-packages (from tensorflow-metadata->tensorflow_datasets) (1.51.0)\n",
            "Requirement already satisfied, skipping upgrade: idna<2.9,>=2.5 in /usr/local/lib/python3.6/dist-packages (from requests>=2.19.0->tensorflow_datasets) (2.8)\n",
            "Requirement already satisfied, skipping upgrade: chardet<3.1.0,>=3.0.2 in /usr/local/lib/python3.6/dist-packages (from requests>=2.19.0->tensorflow_datasets) (3.0.4)\n",
            "Requirement already satisfied, skipping upgrade: urllib3<1.25,>=1.21.1 in /usr/local/lib/python3.6/dist-packages (from requests>=2.19.0->tensorflow_datasets) (1.24.3)\n",
            "Requirement already satisfied, skipping upgrade: certifi>=2017.4.17 in /usr/local/lib/python3.6/dist-packages (from requests>=2.19.0->tensorflow_datasets) (2020.4.5.1)\n",
            "Installing collected packages: tensorflow-datasets\n",
            "  Found existing installation: tensorflow-datasets 2.1.0\n",
            "    Uninstalling tensorflow-datasets-2.1.0:\n",
            "      Successfully uninstalled tensorflow-datasets-2.1.0\n",
            "Successfully installed tensorflow-datasets-3.0.0\n"
          ],
          "name": "stdout"
        }
      ]
    },
    {
      "cell_type": "code",
      "metadata": {
        "id": "0rFbR82DHRI3",
        "colab_type": "code",
        "colab": {}
      },
      "source": [
        "import tensorflow as tf\n",
        "from tensorflow import keras\n",
        "from tensorflow.keras import layers, models\n",
        "import seaborn as sns\n",
        "from tensorflow.keras.models import load_model\n",
        "import numpy as np\n",
        "import matplotlib.pyplot as plt\n",
        "import pandas as pd\n",
        "from keras.models import Sequential, model_from_json\n",
        "from sklearn.model_selection import train_test_split\n",
        "from sklearn.metrics import accuracy_score,precision_score,recall_score,f1_score  \n",
        "from keras.callbacks import ReduceLROnPlateau, LearningRateScheduler\n",
        "from keras.optimizers import Adam,SGD,Adagrad,Adadelta,RMSprop\n",
        "from keras.preprocessing.image import ImageDataGenerator\n",
        "from keras.layers import Dense, Conv2D, Activation, MaxPool2D, Flatten, Dropout, BatchNormalization\n",
        "from sklearn.metrics import confusion_matrix\n",
        "import math \n",
        "import itertools"
      ],
      "execution_count": 0,
      "outputs": []
    },
    {
      "cell_type": "code",
      "metadata": {
        "id": "jKq2ekWqHY4f",
        "colab_type": "code",
        "outputId": "12d6997d-60ff-42cb-89a7-74f5b3624c31",
        "colab": {
          "base_uri": "https://localhost:8080/",
          "height": 151
        }
      },
      "source": [
        "#Loading dataset\n",
        "fashion_mnist = keras.datasets.fashion_mnist\n",
        "\n",
        "(train_images, train_labels), (test_images, test_labels) = fashion_mnist.load_data()"
      ],
      "execution_count": 3,
      "outputs": [
        {
          "output_type": "stream",
          "text": [
            "Downloading data from https://storage.googleapis.com/tensorflow/tf-keras-datasets/train-labels-idx1-ubyte.gz\n",
            "32768/29515 [=================================] - 0s 0us/step\n",
            "Downloading data from https://storage.googleapis.com/tensorflow/tf-keras-datasets/train-images-idx3-ubyte.gz\n",
            "26427392/26421880 [==============================] - 1s 0us/step\n",
            "Downloading data from https://storage.googleapis.com/tensorflow/tf-keras-datasets/t10k-labels-idx1-ubyte.gz\n",
            "8192/5148 [===============================================] - 0s 0us/step\n",
            "Downloading data from https://storage.googleapis.com/tensorflow/tf-keras-datasets/t10k-images-idx3-ubyte.gz\n",
            "4423680/4422102 [==============================] - 0s 0us/step\n"
          ],
          "name": "stdout"
        }
      ]
    },
    {
      "cell_type": "markdown",
      "metadata": {
        "id": "eJFaxyRYHiIF",
        "colab_type": "text"
      },
      "source": [
        "**Exploring the Dataset**"
      ]
    },
    {
      "cell_type": "code",
      "metadata": {
        "id": "CI13SaQGHaZ3",
        "colab_type": "code",
        "outputId": "886494da-a65e-4721-c721-ea3f93acc1f3",
        "colab": {
          "base_uri": "https://localhost:8080/",
          "height": 84
        }
      },
      "source": [
        "X = train_images.shape\n",
        "print(\"Train_dataset_Details\",train_images.shape)\n",
        "print(\"Train_label_Details\",train_labels.shape)\n",
        "print(\"Test_dataset_Details\",test_images.shape)\n",
        "print(\"Test_label_Details\",test_labels.shape)"
      ],
      "execution_count": 4,
      "outputs": [
        {
          "output_type": "stream",
          "text": [
            "Train_dataset_Details (60000, 28, 28)\n",
            "Train_label_Details (60000,)\n",
            "Test_dataset_Details (10000, 28, 28)\n",
            "Test_label_Details (10000,)\n"
          ],
          "name": "stdout"
        }
      ]
    },
    {
      "cell_type": "markdown",
      "metadata": {
        "id": "48F2zviUH63r",
        "colab_type": "text"
      },
      "source": [
        "**Decision**\n",
        "Thus we see that training dataset having 60000 images where each image pixel size 28x28 i.e. 2-D images, and each pixel is a value from 0 to 255 describing the pixel intensity. 0 for white and 255 for black.\n",
        "\n",
        "Where we know the class labels for Fashion MNIST are:\n",
        "```\n",
        "Label   Description\n",
        "0         T-shirt/top\n",
        "1         Trouser\n",
        "2         Pullover\n",
        "3         Dress\n",
        "4         Coat\n",
        "5         Sandal\n",
        "6         Shirt\n",
        "7         Sneaker\n",
        "8         Bag\n",
        "9         Ankle boot\n",
        "```\n",
        "\n"
      ]
    },
    {
      "cell_type": "code",
      "metadata": {
        "id": "t6DsRoBpH6JG",
        "colab_type": "code",
        "outputId": "620b5c62-6d0d-4b02-b241-18bd72b0a948",
        "colab": {
          "base_uri": "https://localhost:8080/",
          "height": 282
        }
      },
      "source": [
        "plt.figure()\n",
        "plt.imshow((train_images[220]))"
      ],
      "execution_count": 5,
      "outputs": [
        {
          "output_type": "execute_result",
          "data": {
            "text/plain": [
              "<matplotlib.image.AxesImage at 0x7ff795452438>"
            ]
          },
          "metadata": {
            "tags": []
          },
          "execution_count": 5
        },
        {
          "output_type": "display_data",
          "data": {
            "image/png": "[encoded data removed]",
            "text/plain": [
              "<Figure size 432x288 with 1 Axes>"
            ]
          },
          "metadata": {
            "tags": [],
            "needs_background": "light"
          }
        }
      ]
    },
    {
      "cell_type": "code",
      "metadata": {
        "id": "qRkkfpvJHfKb",
        "colab_type": "code",
        "outputId": "07a86d32-9b90-45ec-f2ef-593ae81d7a46",
        "colab": {
          "base_uri": "https://localhost:8080/",
          "height": 34
        }
      },
      "source": [
        "train_labels[220]"
      ],
      "execution_count": 6,
      "outputs": [
        {
          "output_type": "execute_result",
          "data": {
            "text/plain": [
              "8"
            ]
          },
          "metadata": {
            "tags": []
          },
          "execution_count": 6
        }
      ]
    },
    {
      "cell_type": "code",
      "metadata": {
        "id": "01Y7aEWzIGIg",
        "colab_type": "code",
        "outputId": "db54e626-1a7c-46d7-fb2d-7c028fd37781",
        "colab": {
          "base_uri": "https://localhost:8080/",
          "height": 364
        }
      },
      "source": [
        "class_names = ['T-shirt/top', 'Trouser', 'Pullover', 'Dress', 'Coat', \n",
        "               'Sandal', 'Shirt', 'Sneaker', 'Bag', 'Ankle boot']\n",
        "plt.figure(figsize=(10,10))\n",
        "for i in range(15):\n",
        "    plt.subplot(5,5,i+1)\n",
        "    plt.xticks([])\n",
        "    plt.yticks([])\n",
        "    plt.imshow(train_images[i], cmap=plt.cm.binary)\n",
        "    plt.xlabel(class_names[train_labels[i]])\n",
        "plt.show()"
      ],
      "execution_count": 7,
      "outputs": [
        {
          "output_type": "display_data",
          "data": {
            "image/png": "[encoded data removed]",
            "text/plain": [
              "<Figure size 720x720 with 15 Axes>"
            ]
          },
          "metadata": {
            "tags": []
          }
        }
      ]
    },
    {
      "cell_type": "markdown",
      "metadata": {
        "id": "o3nkjXUOIK1g",
        "colab_type": "text"
      },
      "source": [
        "\n",
        "Now, since, we have one more dimension for the images i.e. Channels (color), let us add it to the dimensions of train_images and test_images by using reshape() function. Since here the color is black and white there for we will use 1 (hence, channels=1) i.e. 'grayscale'."
      ]
    },
    {
      "cell_type": "code",
      "metadata": {
        "id": "8fBvYavgIH5b",
        "colab_type": "code",
        "colab": {}
      },
      "source": [
        "train_images = train_images.reshape((60000, 28, 28, 1))\n",
        "test_images = test_images.reshape((10000, 28, 28, 1))"
      ],
      "execution_count": 0,
      "outputs": []
    },
    {
      "cell_type": "markdown",
      "metadata": {
        "id": "SwLarXh3IROb",
        "colab_type": "text"
      },
      "source": [
        "Let us normalize these values to a range from 0 to 1. To do this, we can simply divide each pixel value with 255"
      ]
    },
    {
      "cell_type": "code",
      "metadata": {
        "id": "blEgkLBQIN1b",
        "colab_type": "code",
        "colab": {}
      },
      "source": [
        "train_images_norm = train_images / 255.0\n",
        "test_images_norm = test_images / 255.0"
      ],
      "execution_count": 0,
      "outputs": []
    },
    {
      "cell_type": "code",
      "metadata": {
        "id": "y7OKD7IFIS96",
        "colab_type": "code",
        "colab": {}
      },
      "source": [
        "# First convolutional layer. \n",
        "# Number of neurons = 32\n",
        "# filter(kernel) size = 3x3\n",
        "# Activation function = Relu\n",
        "# input data (images) size (height, width, channels) = (28, 28, 1)\n",
        "# Channels is 'colors' here. Since fashion MNIST images are grayscale, number of colors = 1, hence, channels = 1\n",
        "\n",
        "firstconvolayer = layers.Conv2D(32, (3,3), activation='relu', input_shape=(28,28,1) )"
      ],
      "execution_count": 0,
      "outputs": []
    },
    {
      "cell_type": "code",
      "metadata": {
        "id": "YG6HUcOnIdJy",
        "colab_type": "code",
        "colab": {}
      },
      "source": [
        "# Second convolutional layer. \n",
        "# Number of neurons = 64\n",
        "# filter(kernel) size = 3x3\n",
        "# Activation function = Relu\n",
        "# No separate input data for this layer, input to this layer are the 'weights' of the firstconvolayer featureMaps\n",
        "# no need to specify explicitly the input to the other convolutional layers (except for the first layer, as above)\n",
        "secondconvolayer = layers.Conv2D(64, (3,3), activation='relu')"
      ],
      "execution_count": 0,
      "outputs": []
    },
    {
      "cell_type": "code",
      "metadata": {
        "id": "oJ6W1LYiInFa",
        "colab_type": "code",
        "colab": {}
      },
      "source": [
        "# Third convolutional layer. \n",
        "# Number of neurons = 128\n",
        "# filter(kernel) size = 3x3\n",
        "# Activation function = Relu\n",
        "# No separate input data for this layer, input to this layer are the 'weights' of the secondconvolayer featureMaps\n",
        "# no need to specify explicitly the input to the other convolutional layers (except for the first layer, as above)\n",
        "thirdconvolayer = layers.Conv2D(128, (3,3), activation='relu')"
      ],
      "execution_count": 0,
      "outputs": []
    },
    {
      "cell_type": "code",
      "metadata": {
        "id": "-SauHII0IqdK",
        "colab_type": "code",
        "colab": {}
      },
      "source": [
        "# Max Pool Layer\n",
        "# Since input to CNN is a 2-D image and ouput from last convolutional layer (featuerMap) is also 2-D array \n",
        "# (except the third dimension i.e. channels), we will use 2D version of Max Pooling function of TensorFlow Keras\n",
        "# to create a Max Pooling Layer, as shown below filter (kernel) size for Pooling Layer = 2x2\n",
        "\n",
        "\n",
        "#Creating first Max. Pooling Layer\n",
        "max_pool_1 = layers.MaxPooling2D((2,2))\n",
        "\n",
        "#Creating second Max. Pooling Layer\n",
        "max_pool_2 = layers.MaxPooling2D((2,2))\n",
        "\n",
        "#Creating third Max. Pooling Layer\n",
        "max_pool_3 = layers.MaxPooling2D((2,2))"
      ],
      "execution_count": 0,
      "outputs": []
    },
    {
      "cell_type": "code",
      "metadata": {
        "id": "BzoMLbm_IueA",
        "colab_type": "code",
        "colab": {}
      },
      "source": [
        "# Fully Connected (FC) Layer i.e. hidden layer expects input in 1-D format (1-D array), hence, we need to convert\n",
        "# 2-D output (2-D array) of last convolutional layer (conv3) to 1-D array i.e. we need to flatten the 2-D array\n",
        "# to 1-D array\n",
        "\n",
        "flat_layer = layers.Flatten()"
      ],
      "execution_count": 0,
      "outputs": []
    },
    {
      "cell_type": "code",
      "metadata": {
        "id": "FYLYw9rzIzPE",
        "colab_type": "code",
        "colab": {}
      },
      "source": [
        "# Fully Connected (FC) Layer - Hidden(Dense) Layer\n",
        "# Normally, the number of neurons that we keep in FC layer should be equal to the number of neurons in just\n",
        "# immediate previous convolutional layer\n",
        "\n",
        "fc = layers.Dense(128, activation='relu')"
      ],
      "execution_count": 0,
      "outputs": []
    },
    {
      "cell_type": "code",
      "metadata": {
        "id": "mvOopnl9I2Bz",
        "colab_type": "code",
        "colab": {}
      },
      "source": [
        "# Output Layer - with 10 neurons (as we have 10 output classes) and using 'softmax' function\n",
        "output = layers.Dense(10, 'softmax')"
      ],
      "execution_count": 0,
      "outputs": []
    },
    {
      "cell_type": "markdown",
      "metadata": {
        "id": "NUnoarhSI6dl",
        "colab_type": "text"
      },
      "source": [
        "Since we need to overcome overfitting there for we are going to use the simplest way to prevent overfitting is to reduce the size of the model, i.e. the number of learnable parameters (number of layers and the number of neurons per layer). Second option to remove overfitting is to use Regularization techniques like - L1, L2, Dropout."
      ]
    },
    {
      "cell_type": "code",
      "metadata": {
        "id": "X74lNUQ4I4tS",
        "colab_type": "code",
        "colab": {}
      },
      "source": [
        "# Creating first dropout layer (for the first Conv. layer 'conv1')\n",
        "drop_1 = keras.layers.Dropout(0.5)\n",
        "# Creating second dropout layer (for the second Conv. layer 'conv2')\n",
        "drop_2 = keras.layers.Dropout(0.25)\n",
        "# Creating third dropout layer (for the third Conv. layer 'conv3')\n",
        "drop_3 = keras.layers.Dropout(0.5)"
      ],
      "execution_count": 0,
      "outputs": []
    },
    {
      "cell_type": "code",
      "metadata": {
        "id": "jnhqtPwRI8d_",
        "colab_type": "code",
        "colab": {}
      },
      "source": [
        "# Let us create a new neural network by applying these above created Dropout Layers to the respecive convolutional Layers \n",
        "# Please note that the Dropout layer for all the convolutional layers will be applied after the pooling layer (max. pool layer)\n",
        "\n",
        "new_model = models.Sequential()\n",
        "\n",
        "new_model.add(firstconvolayer)\n",
        "# No Pooling Layer and Dropout layer for first Convolutional layer 'conv1'\n",
        "new_model.add(secondconvolayer)\n",
        "new_model.add(max_pool_2)\n",
        "new_model.add(drop_2)\n",
        "new_model.add(thirdconvolayer)\n",
        "new_model.add(max_pool_3)\n",
        "new_model.add(drop_3)\n",
        "new_model.add(flat_layer)\n",
        "new_model.add(fc)\n",
        "new_model.add(output)"
      ],
      "execution_count": 0,
      "outputs": []
    },
    {
      "cell_type": "code",
      "metadata": {
        "id": "A4hqy_YcI__2",
        "colab_type": "code",
        "outputId": "554c7955-f075-46b2-a755-efed7b8fe346",
        "colab": {
          "base_uri": "https://localhost:8080/",
          "height": 487
        }
      },
      "source": [
        "new_model.summary()"
      ],
      "execution_count": 36,
      "outputs": [
        {
          "output_type": "stream",
          "text": [
            "Model: \"sequential_1\"\n",
            "_________________________________________________________________\n",
            "Layer (type)                 Output Shape              Param #   \n",
            "=================================================================\n",
            "conv2d (Conv2D)              (None, 26, 26, 32)        320       \n",
            "_________________________________________________________________\n",
            "conv2d_1 (Conv2D)            (None, 24, 24, 64)        18496     \n",
            "_________________________________________________________________\n",
            "max_pooling2d_1 (MaxPooling2 (None, 12, 12, 64)        0         \n",
            "_________________________________________________________________\n",
            "dropout_1 (Dropout)          (None, 12, 12, 64)        0         \n",
            "_________________________________________________________________\n",
            "conv2d_2 (Conv2D)            (None, 10, 10, 128)       73856     \n",
            "_________________________________________________________________\n",
            "max_pooling2d_2 (MaxPooling2 (None, 5, 5, 128)         0         \n",
            "_________________________________________________________________\n",
            "dropout_2 (Dropout)          (None, 5, 5, 128)         0         \n",
            "_________________________________________________________________\n",
            "flatten (Flatten)            (None, 3200)              0         \n",
            "_________________________________________________________________\n",
            "dense (Dense)                (None, 128)               409728    \n",
            "_________________________________________________________________\n",
            "dense_1 (Dense)              (None, 10)                1290      \n",
            "=================================================================\n",
            "Total params: 503,690\n",
            "Trainable params: 503,690\n",
            "Non-trainable params: 0\n",
            "_________________________________________________________________\n"
          ],
          "name": "stdout"
        }
      ]
    },
    {
      "cell_type": "code",
      "metadata": {
        "id": "tDBpdOLiJEly",
        "colab_type": "code",
        "colab": {}
      },
      "source": [
        "new_model.compile(optimizer='adam',\n",
        "              loss='sparse_categorical_crossentropy',\n",
        "              metrics=['accuracy'])"
      ],
      "execution_count": 0,
      "outputs": []
    },
    {
      "cell_type": "code",
      "metadata": {
        "id": "ckOE_MAOJGau",
        "colab_type": "code",
        "outputId": "c1125ec5-bd5d-4b4a-a297-2ca6a854c9db",
        "colab": {
          "base_uri": "https://localhost:8080/",
          "height": 1000
        }
      },
      "source": [
        " #Let us perform 30 epochs with batch_size as 512, and with shuffling = true \n",
        "# shuffle=true will shuffle the indexes of the instances in order to allocate different sets of instances \n",
        "# in validation dataset each time cross-validation runs\n",
        "# validation split=0.1 means a validation dataset of size of 10% is created from the training dataset for cross validation\n",
        "\n",
        "history = new_model.fit(train_images_norm, train_labels, epochs=30, batch_size=512, shuffle=True, validation_split=0.1)"
      ],
      "execution_count": 38,
      "outputs": [
        {
          "output_type": "stream",
          "text": [
            "Epoch 1/30\n",
            "106/106 [==============================] - 6s 61ms/step - loss: 0.1464 - accuracy: 0.9472 - val_loss: 0.1959 - val_accuracy: 0.9317\n",
            "Epoch 2/30\n",
            "106/106 [==============================] - 6s 56ms/step - loss: 0.1234 - accuracy: 0.9540 - val_loss: 0.1945 - val_accuracy: 0.9323\n",
            "Epoch 3/30\n",
            "106/106 [==============================] - 6s 56ms/step - loss: 0.1217 - accuracy: 0.9549 - val_loss: 0.1860 - val_accuracy: 0.9337\n",
            "Epoch 4/30\n",
            "106/106 [==============================] - 6s 56ms/step - loss: 0.1122 - accuracy: 0.9580 - val_loss: 0.1864 - val_accuracy: 0.9335\n",
            "Epoch 5/30\n",
            "106/106 [==============================] - 6s 56ms/step - loss: 0.1124 - accuracy: 0.9567 - val_loss: 0.1844 - val_accuracy: 0.9348\n",
            "Epoch 6/30\n",
            "106/106 [==============================] - 6s 56ms/step - loss: 0.1081 - accuracy: 0.9590 - val_loss: 0.1874 - val_accuracy: 0.9318\n",
            "Epoch 7/30\n",
            "106/106 [==============================] - 6s 56ms/step - loss: 0.1039 - accuracy: 0.9605 - val_loss: 0.1872 - val_accuracy: 0.9333\n",
            "Epoch 8/30\n",
            "106/106 [==============================] - 6s 57ms/step - loss: 0.1047 - accuracy: 0.9597 - val_loss: 0.1847 - val_accuracy: 0.9335\n",
            "Epoch 9/30\n",
            "106/106 [==============================] - 6s 56ms/step - loss: 0.1028 - accuracy: 0.9605 - val_loss: 0.1985 - val_accuracy: 0.9327\n",
            "Epoch 10/30\n",
            "106/106 [==============================] - 6s 57ms/step - loss: 0.0985 - accuracy: 0.9629 - val_loss: 0.1897 - val_accuracy: 0.9322\n",
            "Epoch 11/30\n",
            "106/106 [==============================] - 6s 56ms/step - loss: 0.0994 - accuracy: 0.9626 - val_loss: 0.1872 - val_accuracy: 0.9343\n",
            "Epoch 12/30\n",
            "106/106 [==============================] - 6s 56ms/step - loss: 0.0969 - accuracy: 0.9639 - val_loss: 0.1883 - val_accuracy: 0.9335\n",
            "Epoch 13/30\n",
            "106/106 [==============================] - 6s 56ms/step - loss: 0.0963 - accuracy: 0.9641 - val_loss: 0.1858 - val_accuracy: 0.9363\n",
            "Epoch 14/30\n",
            "106/106 [==============================] - 6s 56ms/step - loss: 0.0958 - accuracy: 0.9639 - val_loss: 0.1887 - val_accuracy: 0.9358\n",
            "Epoch 15/30\n",
            "106/106 [==============================] - 6s 56ms/step - loss: 0.0945 - accuracy: 0.9642 - val_loss: 0.1835 - val_accuracy: 0.9367\n",
            "Epoch 16/30\n",
            "106/106 [==============================] - 6s 56ms/step - loss: 0.0923 - accuracy: 0.9653 - val_loss: 0.1858 - val_accuracy: 0.9348\n",
            "Epoch 17/30\n",
            "106/106 [==============================] - 6s 57ms/step - loss: 0.0893 - accuracy: 0.9672 - val_loss: 0.1919 - val_accuracy: 0.9355\n",
            "Epoch 18/30\n",
            "106/106 [==============================] - 6s 56ms/step - loss: 0.0875 - accuracy: 0.9676 - val_loss: 0.1913 - val_accuracy: 0.9363\n",
            "Epoch 19/30\n",
            "106/106 [==============================] - 6s 56ms/step - loss: 0.0901 - accuracy: 0.9667 - val_loss: 0.1899 - val_accuracy: 0.9333\n",
            "Epoch 20/30\n",
            "106/106 [==============================] - 6s 57ms/step - loss: 0.0876 - accuracy: 0.9666 - val_loss: 0.1968 - val_accuracy: 0.9322\n",
            "Epoch 21/30\n",
            "106/106 [==============================] - 6s 56ms/step - loss: 0.0885 - accuracy: 0.9669 - val_loss: 0.1920 - val_accuracy: 0.9330\n",
            "Epoch 22/30\n",
            "106/106 [==============================] - 6s 56ms/step - loss: 0.0848 - accuracy: 0.9680 - val_loss: 0.1929 - val_accuracy: 0.9345\n",
            "Epoch 23/30\n",
            "106/106 [==============================] - 6s 56ms/step - loss: 0.0823 - accuracy: 0.9686 - val_loss: 0.1938 - val_accuracy: 0.9338\n",
            "Epoch 24/30\n",
            "106/106 [==============================] - 6s 56ms/step - loss: 0.0854 - accuracy: 0.9676 - val_loss: 0.1914 - val_accuracy: 0.9345\n",
            "Epoch 25/30\n",
            "106/106 [==============================] - 6s 56ms/step - loss: 0.0845 - accuracy: 0.9685 - val_loss: 0.1955 - val_accuracy: 0.9353\n",
            "Epoch 26/30\n",
            "106/106 [==============================] - 6s 56ms/step - loss: 0.0811 - accuracy: 0.9692 - val_loss: 0.1952 - val_accuracy: 0.9335\n",
            "Epoch 27/30\n",
            "106/106 [==============================] - 6s 56ms/step - loss: 0.0815 - accuracy: 0.9683 - val_loss: 0.1936 - val_accuracy: 0.9345\n",
            "Epoch 28/30\n",
            "106/106 [==============================] - 6s 56ms/step - loss: 0.0818 - accuracy: 0.9694 - val_loss: 0.1915 - val_accuracy: 0.9350\n",
            "Epoch 29/30\n",
            "106/106 [==============================] - 6s 56ms/step - loss: 0.0795 - accuracy: 0.9704 - val_loss: 0.1876 - val_accuracy: 0.9375\n",
            "Epoch 30/30\n",
            "106/106 [==============================] - 6s 56ms/step - loss: 0.0793 - accuracy: 0.9707 - val_loss: 0.2007 - val_accuracy: 0.9352\n"
          ],
          "name": "stdout"
        }
      ]
    },
    {
      "cell_type": "code",
      "metadata": {
        "id": "SP2LnxOJJKW7",
        "colab_type": "code",
        "outputId": "d08a7b8b-7e7e-4933-eddb-f5f82f6d43a2",
        "colab": {
          "base_uri": "https://localhost:8080/",
          "height": 34
        }
      },
      "source": [
        "test_loss, test_accuracy = new_model.evaluate(test_images_norm, test_labels)"
      ],
      "execution_count": 39,
      "outputs": [
        {
          "output_type": "stream",
          "text": [
            "313/313 [==============================] - 1s 5ms/step - loss: 0.2211 - accuracy: 0.9329\n"
          ],
          "name": "stdout"
        }
      ]
    },
    {
      "cell_type": "code",
      "metadata": {
        "id": "R9PipBWoJbQN",
        "colab_type": "code",
        "outputId": "cc45f087-192a-47ce-e13f-541133c596f0",
        "colab": {
          "base_uri": "https://localhost:8080/",
          "height": 34
        }
      },
      "source": [
        "print(test_accuracy)"
      ],
      "execution_count": 40,
      "outputs": [
        {
          "output_type": "stream",
          "text": [
            "0.9329000115394592\n"
          ],
          "name": "stdout"
        }
      ]
    },
    {
      "cell_type": "code",
      "metadata": {
        "id": "DE1pSBJlJn59",
        "colab_type": "code",
        "outputId": "089b6468-57b4-4063-db56-0402e2da2f64",
        "colab": {
          "base_uri": "https://localhost:8080/",
          "height": 34
        }
      },
      "source": [
        "print(test_loss)"
      ],
      "execution_count": 41,
      "outputs": [
        {
          "output_type": "stream",
          "text": [
            "0.2210739403963089\n"
          ],
          "name": "stdout"
        }
      ]
    },
    {
      "cell_type": "code",
      "metadata": {
        "id": "znvxnq6nRQ5k",
        "colab_type": "code",
        "outputId": "c5fc125b-7a45-4e9f-b2f4-94184acedd20",
        "colab": {
          "base_uri": "https://localhost:8080/",
          "height": 34
        }
      },
      "source": [
        "print(history.history.keys())"
      ],
      "execution_count": 42,
      "outputs": [
        {
          "output_type": "stream",
          "text": [
            "dict_keys(['loss', 'accuracy', 'val_loss', 'val_accuracy'])\n"
          ],
          "name": "stdout"
        }
      ]
    },
    {
      "cell_type": "code",
      "metadata": {
        "id": "le8RPOeJPudp",
        "colab_type": "code",
        "outputId": "cbcc5a7e-f909-49ac-e026-98abbc97c757",
        "colab": {
          "base_uri": "https://localhost:8080/",
          "height": 295
        }
      },
      "source": [
        "plt.plot(history.history['accuracy'])\n",
        "plt.plot(history.history['val_accuracy'])\n",
        "plt.title(\"Accuracy\")\n",
        "plt.ylabel(\"accuracy\")\n",
        "plt.xlabel(\"epoch\")\n",
        "plt.legend(['train', 'test'], loc='upper left')\n",
        "plt.show()"
      ],
      "execution_count": 43,
      "outputs": [
        {
          "output_type": "display_data",
          "data": {
            "image/png": "[encoded data removed]",
            "text/plain": [
              "<Figure size 432x288 with 1 Axes>"
            ]
          },
          "metadata": {
            "tags": [],
            "needs_background": "light"
          }
        }
      ]
    },
    {
      "cell_type": "code",
      "metadata": {
        "id": "G18f1-heXC-C",
        "colab_type": "code",
        "outputId": "d458bd5a-7ea2-443d-9da3-6a6f17f97c90",
        "colab": {
          "base_uri": "https://localhost:8080/",
          "height": 295
        }
      },
      "source": [
        "plt.plot(history.history['val_loss'])\n",
        "plt.plot(history.history['loss'])\n",
        "plt.title(\"Loss\")\n",
        "plt.ylabel(\"loss\")\n",
        "plt.xlabel(\"epoch\")\n",
        "plt.legend(['train', 'test'], loc='upper left')\n",
        "plt.show()"
      ],
      "execution_count": 51,
      "outputs": [
        {
          "output_type": "display_data",
          "data": {
            "image/png": "[encoded data removed]",
            "text/plain": [
              "<Figure size 432x288 with 1 Axes>"
            ]
          },
          "metadata": {
            "tags": [],
            "needs_background": "light"
          }
        }
      ]
    },
    {
      "cell_type": "code",
      "metadata": {
        "id": "8lWy04zPXsiH",
        "colab_type": "code",
        "colab": {}
      },
      "source": [
        "# Making predictions on Test dataset\n",
        "predicted_test_labels = new_model.predict(test_images_norm)"
      ],
      "execution_count": 0,
      "outputs": []
    },
    {
      "cell_type": "code",
      "metadata": {
        "id": "T_eL5KxPX6HK",
        "colab_type": "code",
        "outputId": "40750632-5917-4c71-ef79-fc24b9f93ef9",
        "colab": {
          "base_uri": "https://localhost:8080/",
          "height": 34
        }
      },
      "source": [
        "predicted_test_labels.shape"
      ],
      "execution_count": 46,
      "outputs": [
        {
          "output_type": "execute_result",
          "data": {
            "text/plain": [
              "(10000, 10)"
            ]
          },
          "metadata": {
            "tags": []
          },
          "execution_count": 46
        }
      ]
    },
    {
      "cell_type": "code",
      "metadata": {
        "id": "HGeo-RjMX7u9",
        "colab_type": "code",
        "outputId": "65cd8d61-7786-4065-befb-2ce49f9b2856",
        "colab": {
          "base_uri": "https://localhost:8080/",
          "height": 67
        }
      },
      "source": [
        "predicted_test_labels[88]"
      ],
      "execution_count": 47,
      "outputs": [
        {
          "output_type": "execute_result",
          "data": {
            "text/plain": [
              "array([9.9999821e-01, 4.0275664e-18, 9.4601367e-09, 6.7962293e-07,\n",
              "       4.9095788e-12, 1.1297372e-14, 1.0977793e-06, 7.5356041e-17,\n",
              "       4.0764733e-10, 7.6349713e-16], dtype=float32)"
            ]
          },
          "metadata": {
            "tags": []
          },
          "execution_count": 47
        }
      ]
    },
    {
      "cell_type": "code",
      "metadata": {
        "id": "DBYmgTaMX92j",
        "colab_type": "code",
        "outputId": "04ec7e26-3b08-476d-be9f-b8b011e127b9",
        "colab": {
          "base_uri": "https://localhost:8080/",
          "height": 34
        }
      },
      "source": [
        "predicted_test_labels_index = np.argmax(predicted_test_labels[88])\n",
        "predicted_test_labels_index"
      ],
      "execution_count": 48,
      "outputs": [
        {
          "output_type": "execute_result",
          "data": {
            "text/plain": [
              "0"
            ]
          },
          "metadata": {
            "tags": []
          },
          "execution_count": 48
        }
      ]
    },
    {
      "cell_type": "code",
      "metadata": {
        "id": "tppNtlCfX_WE",
        "colab_type": "code",
        "outputId": "9e4c6504-5f8c-4093-f73f-867ce278cfaf",
        "colab": {
          "base_uri": "https://localhost:8080/",
          "height": 34
        }
      },
      "source": [
        "test_labels[88]"
      ],
      "execution_count": 49,
      "outputs": [
        {
          "output_type": "execute_result",
          "data": {
            "text/plain": [
              "0"
            ]
          },
          "metadata": {
            "tags": []
          },
          "execution_count": 49
        }
      ]
    },
    {
      "cell_type": "code",
      "metadata": {
        "id": "48NITFkrYAw1",
        "colab_type": "code",
        "outputId": "7881a2cc-1613-4e37-c154-f430aa031ad5",
        "colab": {
          "base_uri": "https://localhost:8080/",
          "height": 282
        }
      },
      "source": [
        "plt.figure()\n",
        "plt.imshow(np.squeeze(test_images[88]))"
      ],
      "execution_count": 50,
      "outputs": [
        {
          "output_type": "execute_result",
          "data": {
            "text/plain": [
              "<matplotlib.image.AxesImage at 0x7ff7902c8f28>"
            ]
          },
          "metadata": {
            "tags": []
          },
          "execution_count": 50
        },
        {
          "output_type": "display_data",
          "data": {
            "image/png": "[encoded data removed]",
            "text/plain": [
              "<Figure size 432x288 with 1 Axes>"
            ]
          },
          "metadata": {
            "tags": [],
            "needs_background": "light"
          }
        }
      ]
    },
    {
      "cell_type": "markdown",
      "metadata": {
        "id": "Y_MQ8qqXqdhA",
        "colab_type": "text"
      },
      "source": [
        "Creating a advanced model with some new features."
      ]
    },
    {
      "cell_type": "code",
      "metadata": {
        "id": "WrWvtVUjqcKm",
        "colab_type": "code",
        "colab": {}
      },
      "source": [
        "model = Sequential()\n",
        "\n",
        "#1. LAYER\n",
        "model.add(Conv2D(filters = 32, kernel_size = (3,3), padding = 'Same', input_shape=(28, 28, 1)))\n",
        "model.add(BatchNormalization())\n",
        "model.add(Activation(\"relu\"))\n",
        "\n",
        "#2. LAYER\n",
        "model.add(Conv2D(filters = 32, kernel_size = (3,3), padding = 'Same'))\n",
        "model.add(BatchNormalization())\n",
        "model.add(Activation(\"relu\"))\n",
        "\n",
        "model.add(MaxPool2D(pool_size=(2, 2)))\n",
        "\n",
        "#3. LAYER\n",
        "model.add(Conv2D(filters = 64, kernel_size = (3,3), padding = 'Same'))\n",
        "model.add(BatchNormalization())\n",
        "model.add(Activation(\"relu\"))\n",
        "\n",
        "#4. LAYER\n",
        "model.add(Conv2D(filters = 64, kernel_size = (3,3), padding = 'Same'))\n",
        "model.add(BatchNormalization())\n",
        "model.add(Activation(\"relu\"))\n",
        "\n",
        "model.add(MaxPool2D(pool_size=(2, 2)))\n",
        "\n",
        "#FULLY CONNECTED LAYER\n",
        "model.add(Flatten())\n",
        "model.add(Dense(512))\n",
        "model.add(BatchNormalization())\n",
        "model.add(Activation(\"relu\"))\n",
        "model.add(Dropout(0.25))\n",
        "\n",
        "#OUTPUT LAYER\n",
        "model.add(Dense(10, activation='softmax'))"
      ],
      "execution_count": 0,
      "outputs": []
    },
    {
      "cell_type": "code",
      "metadata": {
        "id": "IFIocWIMqo-k",
        "colab_type": "code",
        "colab": {}
      },
      "source": [
        "model.compile(optimizer='adam',\n",
        "              loss='sparse_categorical_crossentropy',\n",
        "              metrics=['accuracy'])"
      ],
      "execution_count": 0,
      "outputs": []
    },
    {
      "cell_type": "markdown",
      "metadata": {
        "id": "Q-B49Pn1YF4P",
        "colab_type": "text"
      },
      "source": [
        "Thus, we see that our prediction of the image at index 88 is right (T-shirt)."
      ]
    },
    {
      "cell_type": "code",
      "metadata": {
        "id": "36pctbJinVFK",
        "colab_type": "code",
        "colab": {
          "base_uri": "https://localhost:8080/",
          "height": 84
        },
        "outputId": "751b67de-5e5d-4602-a2a9-18420fb37d0c"
      },
      "source": [
        "# Setting Random Seeds for Reproducibilty.\n",
        "seed = 66\n",
        "np.random.seed(seed)\n",
        "X = train_images_norm\n",
        "Y = train_labels\n",
        "x_train, x_test, y_train, y_test = train_test_split(X, Y, test_size=0.1, random_state=seed)\n",
        "print(x_train.shape)\n",
        "print(x_test.shape)\n",
        "print(y_train.shape)\n",
        "print(y_test.shape)"
      ],
      "execution_count": 66,
      "outputs": [
        {
          "output_type": "stream",
          "text": [
            "(54000, 28, 28, 1)\n",
            "(6000, 28, 28, 1)\n",
            "(54000,)\n",
            "(6000,)\n"
          ],
          "name": "stdout"
        }
      ]
    },
    {
      "cell_type": "code",
      "metadata": {
        "id": "6gKPdOYdYCeQ",
        "colab_type": "code",
        "colab": {}
      },
      "source": [
        "class CollectBatchStats(tf.keras.callbacks.Callback):\n",
        "    def __init__(self):\n",
        "        self.batch_losses = []\n",
        "        self.batch_acc = []\n",
        "\n",
        "    def on_batch_end(self, batch, logs=None):\n",
        "        self.batch_losses.append(logs['loss'])\n",
        "        self.batch_acc.append(logs['acc'])\n",
        "\n",
        "batch_stats = CollectBatchStats()"
      ],
      "execution_count": 0,
      "outputs": []
    },
    {
      "cell_type": "code",
      "metadata": {
        "id": "h7qQxY7V7WKQ",
        "colab_type": "code",
        "outputId": "b337d3ae-006d-4b20-b507-de2c557cf79a",
        "colab": {
          "base_uri": "https://localhost:8080/",
          "height": 1000
        }
      },
      "source": [
        "reduce_lr = LearningRateScheduler(lambda x: 1e-3 * 0.9 ** x)\n",
        "aug_num = 10 \n",
        "datagen = ImageDataGenerator(\n",
        "        featurewise_center=False,  # set input mean to 0 over the dataset\n",
        "        samplewise_center=False,  # set each sample mean to 0\n",
        "        featurewise_std_normalization=False,  # divide inputs by std of the dataset\n",
        "        samplewise_std_normalization=False,  # divide each input by its std\n",
        "        zca_whitening=False,  # apply ZCA whitening\n",
        "        rotation_range= 0.8,  # randomly rotate images in the range (degrees, 0 to 180)\n",
        "        zoom_range = aug_num / 100, # Randomly zoom image \n",
        "        width_shift_range= aug_num / 100,  # randomly shift images horizontally (fraction of total width)\n",
        "        height_shift_range= aug_num / 100,  # randomly shift images vertically (fraction of total height)\n",
        "        horizontal_flip=0.05,  # randomly flip images horizontally\n",
        "        vertical_flip=True)  # randomly flip images vertically\n",
        "        \n",
        "datagen.fit(x_train)\n",
        "batch_size = 128\n",
        "epochs =  30\n",
        "# Fit the Model\n",
        "history = model.fit_generator(datagen.flow(x_train, y_train, batch_size = batch_size), epochs = epochs, \n",
        "                              validation_data = (x_test, y_test), verbose=2, \n",
        "                              steps_per_epoch=x_train.shape[0] // batch_size,\n",
        "                              callbacks=[reduce_lr])"
      ],
      "execution_count": 70,
      "outputs": [
        {
          "output_type": "stream",
          "text": [
            "Epoch 1/30\n",
            " - 25s - loss: 0.3443 - accuracy: 0.8776 - val_loss: 0.2107 - val_accuracy: 0.9288\n",
            "Epoch 2/30\n",
            " - 24s - loss: 0.2651 - accuracy: 0.9037 - val_loss: 0.1891 - val_accuracy: 0.9330\n",
            "Epoch 3/30\n",
            " - 24s - loss: 0.2449 - accuracy: 0.9092 - val_loss: 0.1919 - val_accuracy: 0.9302\n",
            "Epoch 4/30\n",
            " - 25s - loss: 0.2341 - accuracy: 0.9134 - val_loss: 0.1958 - val_accuracy: 0.9307\n",
            "Epoch 5/30\n",
            " - 24s - loss: 0.2280 - accuracy: 0.9175 - val_loss: 0.1863 - val_accuracy: 0.9367\n",
            "Epoch 6/30\n",
            " - 24s - loss: 0.2167 - accuracy: 0.9207 - val_loss: 0.1815 - val_accuracy: 0.9365\n",
            "Epoch 7/30\n",
            " - 25s - loss: 0.2108 - accuracy: 0.9215 - val_loss: 0.1765 - val_accuracy: 0.9363\n",
            "Epoch 8/30\n",
            " - 24s - loss: 0.2044 - accuracy: 0.9232 - val_loss: 0.1932 - val_accuracy: 0.9333\n",
            "Epoch 9/30\n",
            " - 24s - loss: 0.1997 - accuracy: 0.9266 - val_loss: 0.1823 - val_accuracy: 0.9377\n",
            "Epoch 10/30\n",
            " - 25s - loss: 0.1972 - accuracy: 0.9273 - val_loss: 0.1674 - val_accuracy: 0.9410\n",
            "Epoch 11/30\n",
            " - 24s - loss: 0.1899 - accuracy: 0.9306 - val_loss: 0.1717 - val_accuracy: 0.9390\n",
            "Epoch 12/30\n",
            " - 24s - loss: 0.1884 - accuracy: 0.9308 - val_loss: 0.1645 - val_accuracy: 0.9400\n",
            "Epoch 13/30\n",
            " - 24s - loss: 0.1864 - accuracy: 0.9317 - val_loss: 0.1664 - val_accuracy: 0.9400\n",
            "Epoch 14/30\n",
            " - 24s - loss: 0.1810 - accuracy: 0.9341 - val_loss: 0.1629 - val_accuracy: 0.9410\n",
            "Epoch 15/30\n",
            " - 24s - loss: 0.1771 - accuracy: 0.9348 - val_loss: 0.1610 - val_accuracy: 0.9458\n",
            "Epoch 16/30\n",
            " - 25s - loss: 0.1755 - accuracy: 0.9355 - val_loss: 0.1713 - val_accuracy: 0.9403\n",
            "Epoch 17/30\n",
            " - 24s - loss: 0.1731 - accuracy: 0.9368 - val_loss: 0.1794 - val_accuracy: 0.9355\n",
            "Epoch 18/30\n",
            " - 24s - loss: 0.1745 - accuracy: 0.9363 - val_loss: 0.1660 - val_accuracy: 0.9425\n",
            "Epoch 19/30\n",
            " - 24s - loss: 0.1714 - accuracy: 0.9375 - val_loss: 0.1670 - val_accuracy: 0.9428\n",
            "Epoch 20/30\n",
            " - 24s - loss: 0.1680 - accuracy: 0.9395 - val_loss: 0.1682 - val_accuracy: 0.9400\n",
            "Epoch 21/30\n",
            " - 24s - loss: 0.1675 - accuracy: 0.9392 - val_loss: 0.1631 - val_accuracy: 0.9435\n",
            "Epoch 22/30\n",
            " - 24s - loss: 0.1672 - accuracy: 0.9393 - val_loss: 0.1622 - val_accuracy: 0.9427\n",
            "Epoch 23/30\n",
            " - 24s - loss: 0.1668 - accuracy: 0.9392 - val_loss: 0.1651 - val_accuracy: 0.9413\n",
            "Epoch 24/30\n",
            " - 24s - loss: 0.1624 - accuracy: 0.9405 - val_loss: 0.1646 - val_accuracy: 0.9420\n",
            "Epoch 25/30\n",
            " - 24s - loss: 0.1634 - accuracy: 0.9403 - val_loss: 0.1662 - val_accuracy: 0.9415\n",
            "Epoch 26/30\n",
            " - 24s - loss: 0.1621 - accuracy: 0.9403 - val_loss: 0.1618 - val_accuracy: 0.9425\n",
            "Epoch 27/30\n",
            " - 24s - loss: 0.1618 - accuracy: 0.9409 - val_loss: 0.1608 - val_accuracy: 0.9440\n",
            "Epoch 28/30\n",
            " - 25s - loss: 0.1608 - accuracy: 0.9416 - val_loss: 0.1613 - val_accuracy: 0.9438\n",
            "Epoch 29/30\n",
            " - 25s - loss: 0.1611 - accuracy: 0.9413 - val_loss: 0.1633 - val_accuracy: 0.9425\n",
            "Epoch 30/30\n",
            " - 24s - loss: 0.1593 - accuracy: 0.9415 - val_loss: 0.1632 - val_accuracy: 0.9440\n"
          ],
          "name": "stdout"
        }
      ]
    },
    {
      "cell_type": "code",
      "metadata": {
        "id": "IwH2g5f27iyA",
        "colab_type": "code",
        "colab": {
          "base_uri": "https://localhost:8080/",
          "height": 370
        },
        "outputId": "7082178e-a269-421d-f0e2-e77d2ad7ae47"
      },
      "source": [
        "plt.figure(figsize=(14,5))\n",
        "plt.subplot(1, 2, 1)\n",
        "plt.suptitle('Train Results', fontsize=10)\n",
        "plt.xlabel(\"Number of Epochs\")\n",
        "plt.ylabel('Loss', fontsize=16)\n",
        "plt.plot(history.history['loss'], color='b', label='Training Loss')\n",
        "plt.plot(history.history['val_loss'], color='r', label='Validation Loss')\n",
        "plt.legend(loc='upper right')\n",
        "\n",
        "plt.subplot(1, 2, 2)\n",
        "plt.ylabel('Accuracy', fontsize=16)\n",
        "plt.plot(history.history['accuracy'], color='green', label='Training Accuracy')\n",
        "plt.plot(history.history['val_accuracy'], color='orange', label='Validation Accuracy')\n",
        "plt.legend(loc='lower right')\n",
        "plt.show()"
      ],
      "execution_count": 71,
      "outputs": [
        {
          "output_type": "display_data",
          "data": {
            "image/png": "[encoded data removed]",
            "text/plain": [
              "<Figure size 1008x360 with 2 Axes>"
            ]
          },
          "metadata": {
            "tags": [],
            "needs_background": "light"
          }
        }
      ]
    },
    {
      "cell_type": "code",
      "metadata": {
        "id": "H2Y24qxKxUHD",
        "colab_type": "code",
        "colab": {
          "base_uri": "https://localhost:8080/",
          "height": 34
        },
        "outputId": "0f777261-23ca-46e5-9b7b-be3dfcdb4e73"
      },
      "source": [
        "print('Train accuracy of the model: ',history.history['accuracy'][-1])"
      ],
      "execution_count": 72,
      "outputs": [
        {
          "output_type": "stream",
          "text": [
            "Train accuracy of the model:  0.9415466\n"
          ],
          "name": "stdout"
        }
      ]
    },
    {
      "cell_type": "code",
      "metadata": {
        "id": "SNLQGt5pxVOS",
        "colab_type": "code",
        "colab": {
          "base_uri": "https://localhost:8080/",
          "height": 34
        },
        "outputId": "433e172f-4ed7-42ee-851b-bbd180db4be4"
      },
      "source": [
        "print('Train loss of the model: ',history.history['loss'][-1])"
      ],
      "execution_count": 73,
      "outputs": [
        {
          "output_type": "stream",
          "text": [
            "Train loss of the model:  0.15933453283909702\n"
          ],
          "name": "stdout"
        }
      ]
    },
    {
      "cell_type": "code",
      "metadata": {
        "id": "BSsyPj0jxWuJ",
        "colab_type": "code",
        "colab": {
          "base_uri": "https://localhost:8080/",
          "height": 34
        },
        "outputId": "2e42f6ce-09c9-41f9-8073-2106bb9602a1"
      },
      "source": [
        "print('Validation accuracy of the model: ',history.history['val_accuracy'][-1])"
      ],
      "execution_count": 74,
      "outputs": [
        {
          "output_type": "stream",
          "text": [
            "Validation accuracy of the model:  0.9440000057220459\n"
          ],
          "name": "stdout"
        }
      ]
    },
    {
      "cell_type": "code",
      "metadata": {
        "id": "F9oz4zRJxXtP",
        "colab_type": "code",
        "colab": {
          "base_uri": "https://localhost:8080/",
          "height": 34
        },
        "outputId": "fdd48475-dfc0-4732-df75-f0c038701e7d"
      },
      "source": [
        "print('Validation loss of the model: ',history.history['val_loss'][-1])"
      ],
      "execution_count": 75,
      "outputs": [
        {
          "output_type": "stream",
          "text": [
            "Validation loss of the model:  0.16319409972429275\n"
          ],
          "name": "stdout"
        }
      ]
    },
    {
      "cell_type": "code",
      "metadata": {
        "id": "U77iE39gxZIo",
        "colab_type": "code",
        "colab": {
          "base_uri": "https://localhost:8080/",
          "height": 50
        },
        "outputId": "6990e565-1c54-4a8e-9a52-ee866f31d584"
      },
      "source": [
        "score = model.evaluate(x_test,y_test,verbose=0)\n",
        "print(\"Test Loss:\",score[0])\n",
        "print(\"Test Accuracy:\",score[1])"
      ],
      "execution_count": 76,
      "outputs": [
        {
          "output_type": "stream",
          "text": [
            "Test Loss: 0.16319409878055255\n",
            "Test Accuracy: 0.9440000057220459\n"
          ],
          "name": "stdout"
        }
      ]
    },
    {
      "cell_type": "code",
      "metadata": {
        "id": "OvedWXVpxa5h",
        "colab_type": "code",
        "colab": {
          "base_uri": "https://localhost:8080/",
          "height": 265
        },
        "outputId": "2b1a657f-ee88-476c-babb-a891d543ece6"
      },
      "source": [
        "print(x_test.shape)\n",
        "plt.imshow(x_test[1].reshape(28,28),cmap=\"gray\")\n",
        "plt.axis(\"off\")\n",
        "plt.show()"
      ],
      "execution_count": 77,
      "outputs": [
        {
          "output_type": "stream",
          "text": [
            "(6000, 28, 28, 1)\n"
          ],
          "name": "stdout"
        },
        {
          "output_type": "display_data",
          "data": {
            "image/png": "[encoded data removed]",
            "text/plain": [
              "<Figure size 432x288 with 1 Axes>"
            ]
          },
          "metadata": {
            "tags": [],
            "needs_background": "light"
          }
        }
      ]
    },
    {
      "cell_type": "code",
      "metadata": {
        "id": "k18vEQH3xcff",
        "colab_type": "code",
        "colab": {
          "base_uri": "https://localhost:8080/",
          "height": 101
        },
        "outputId": "0ed702f4-c3e5-4a8f-dfee-812e4c0c45c6"
      },
      "source": [
        "trueY = y_test[1]\n",
        "img = x_test[1]\n",
        "test_img = img.reshape(1,28,28,1)\n",
        "\n",
        "preds = model.predict_classes(test_img)\n",
        "prob = model.predict_proba(test_img)\n",
        "\n",
        "print(\"trueY: \",np.argmax(trueY))\n",
        "print(\"Preds: \",preds)\n",
        "print(\"Prob: \",prob)"
      ],
      "execution_count": 78,
      "outputs": [
        {
          "output_type": "stream",
          "text": [
            "trueY:  0\n",
            "Preds:  [3]\n",
            "Prob:  [[6.15611323e-04 7.16845898e-05 1.00428570e-05 9.99143004e-01\n",
            "  1.09778175e-05 2.49791896e-07 1.33046575e-04 8.17618400e-08\n",
            "  1.45328058e-05 8.22841059e-07]]\n"
          ],
          "name": "stdout"
        }
      ]
    },
    {
      "cell_type": "code",
      "metadata": {
        "id": "ukS7Zw-Oxd_i",
        "colab_type": "code",
        "colab": {}
      },
      "source": [
        "Y_pred = model.predict(x_test)\n",
        "Y_pred_classes = np.argmax(Y_pred, axis = 1)\n",
        "Y_true = np.argmax(y_test)\n"
      ],
      "execution_count": 0,
      "outputs": []
    },
    {
      "cell_type": "code",
      "metadata": {
        "id": "PpFV5RkWxki4",
        "colab_type": "code",
        "colab": {
          "base_uri": "https://localhost:8080/",
          "height": 50
        },
        "outputId": "6a587618-f6c2-483f-e8bc-81da0ee66890"
      },
      "source": [
        "from keras.utils.np_utils import to_categorical \n",
        "\n",
        "# convert to one-hot-encoding(one hot vectors)\n",
        "Y_train = to_categorical(y_train, num_classes = 10)\n",
        "# convert to one-hot-encoding(one hot vectors)\n",
        "Y_test = to_categorical(y_test, num_classes = 10)\n",
        "\n",
        "print(Y_train.shape)\n",
        "print(Y_test.shape)"
      ],
      "execution_count": 80,
      "outputs": [
        {
          "output_type": "stream",
          "text": [
            "(54000, 10)\n",
            "(6000, 10)\n"
          ],
          "name": "stdout"
        }
      ]
    },
    {
      "cell_type": "code",
      "metadata": {
        "id": "ol0CrU5Qxfm2",
        "colab_type": "code",
        "colab": {}
      },
      "source": [
        "def plot_confusion_matrix(cm, classes,\n",
        "                          normalize=False,\n",
        "                          title='Confusion matrix',\n",
        "                          cmap=plt.cm.Blues):\n",
        "    \n",
        "    plt.imshow(cm, interpolation='nearest', cmap=cmap)\n",
        "    plt.title(title)\n",
        "    plt.colorbar()\n",
        "    tick_marks = np.arange(len(classes))\n",
        "    plt.xticks(tick_marks, classes, rotation=90)\n",
        "    plt.yticks(tick_marks, classes)\n",
        "\n",
        "    if normalize:\n",
        "        cm = cm.astype('float') / cm.sum(axis=1)[:, np.newaxis]\n",
        "\n",
        "    thresh = cm.max() / 2.\n",
        "    for i, j in itertools.product(range(cm.shape[0]), range(cm.shape[1])):\n",
        "        plt.text(j, i, cm[i, j],\n",
        "                 horizontalalignment=\"center\",\n",
        "                 color=\"white\" if cm[i, j] > thresh else \"black\")\n",
        "\n",
        "    plt.tight_layout()\n",
        "    plt.ylabel('True label')\n",
        "    plt.xlabel('Predicted label')"
      ],
      "execution_count": 0,
      "outputs": []
    },
    {
      "cell_type": "code",
      "metadata": {
        "id": "uHYu9T55xriZ",
        "colab_type": "code",
        "colab": {
          "base_uri": "https://localhost:8080/",
          "height": 730
        },
        "outputId": "eb411b8e-7a02-44cf-a93f-688c53a8a968"
      },
      "source": [
        "Y_pred = model.predict(x_test)\n",
        "Y_pred_classes = np.argmax(Y_pred, axis = 1)\n",
        "Y_true = np.argmax(Y_test, axis = 1)\n",
        "confusion_mtx = confusion_matrix(Y_true, Y_pred_classes) \n",
        "\n",
        "f,ax = plt.subplots(figsize = (12,12))\n",
        "sns.heatmap(confusion_mtx, annot=True, linewidths=0.1, cmap = \"gist_yarg_r\", linecolor=\"black\", fmt='.0f', ax=ax)\n",
        "plt.xlabel(\"Predicted Label\")\n",
        "plt.ylabel(\"True Label\")\n",
        "plt.title(\"Confusion Matrix\")\n",
        "plt.show()"
      ],
      "execution_count": 82,
      "outputs": [
        {
          "output_type": "display_data",
          "data": {
            "image/png": "[encoded data removed]",
            "text/plain": [
              "<Figure size 864x864 with 2 Axes>"
            ]
          },
          "metadata": {
            "tags": [],
            "needs_background": "light"
          }
        }
      ]
    },
    {
      "cell_type": "code",
      "metadata": {
        "id": "32lOOspLxyku",
        "colab_type": "code",
        "colab": {
          "base_uri": "https://localhost:8080/",
          "height": 873
        },
        "outputId": "ba77d9e8-2889-4474-ce12-1cf8ad1e1bc7"
      },
      "source": [
        "Y_pred = model.predict(x_test)\n",
        "# Convert predictions classes to one hot vectors \n",
        "Y_pred_classes = np.argmax(Y_pred,axis = 1) \n",
        "# Convert validation observations to one hot vectors\n",
        "Y_true = np.argmax(Y_test,axis = 1) \n",
        "# compute the confusion matrix\n",
        "confusion_mtx = confusion_matrix(Y_true, Y_pred_classes) \n",
        "# plot the confusion matrix\n",
        "f,ax = plt.subplots(figsize = (12,12))\n",
        "plot_confusion_matrix(confusion_mtx, \n",
        "            classes = ['T-shirt/Top','Trouser','Pullover','Dress','Coat','Sandal','Shirt','Sneaker','Bag','Ankle Boot'])"
      ],
      "execution_count": 83,
      "outputs": [
        {
          "output_type": "display_data",
          "data": {
            "image/png": "[encoded data removed]",
            "text/plain": [
              "<Figure size 864x864 with 2 Axes>"
            ]
          },
          "metadata": {
            "tags": [],
            "needs_background": "light"
          }
        }
      ]
    },
    {
      "cell_type": "code",
      "metadata": {
        "id": "-CvaJwHXx6zk",
        "colab_type": "code",
        "colab": {}
      },
      "source": [
        ""
      ],
      "execution_count": 0,
      "outputs": []
    }
  ]
}