{
  "nbformat": 4,
  "nbformat_minor": 0,
  "metadata": {
    "colab": {
      "name": "handwrittendigit.ipynb",
      "provenance": [],
      "authorship_tag": "ABX9TyP7IRjeRfSwv+etHcLwIavO",
      "include_colab_link": true
    },
    "kernelspec": {
      "name": "python3",
      "display_name": "Python 3"
    },
    "accelerator": "GPU"
  },
  "cells": [
    {
      "cell_type": "markdown",
      "metadata": {
        "id": "view-in-github",
        "colab_type": "text"
      },
      "source": [
        "<a href=\"https://colab.research.google.com/github/Skillerx27/Image_Classification_Using_Deep_Learning/blob/master/mnist_digit_using_cnn.ipynb\" target=\"_parent\"><img src=\"https://colab.research.google.com/assets/colab-badge.svg\" alt=\"Open In Colab\"/></a>"
      ]
    },
    {
      "cell_type": "code",
      "metadata": {
        "id": "b5YDKCb7Ad5z",
        "colab_type": "code",
        "colab": {}
      },
      "source": [
        "import os\n",
        "import glob\n",
        "import h5py\n",
        "import shutil\n",
        "import imgaug as aug\n",
        "import numpy as np # linear algebra\n",
        "import pandas as pd # data processing, CSV file I/O (e.g. pd.read_csv)\n",
        "import seaborn as sns\n",
        "import matplotlib.pyplot as plt\n",
        "import matplotlib.image as mimg\n",
        "import imgaug.augmenters as iaa\n",
        "from os import listdir, makedirs, getcwd, remove\n",
        "from os.path import isfile, join, abspath, exists, isdir, expanduser\n",
        "from PIL import Image\n",
        "from pathlib import Path\n",
        "from skimage.io import imread\n",
        "from skimage.transform import resize\n",
        "from keras.models import Sequential, Model\n",
        "from keras.applications.vgg16 import VGG16, preprocess_input\n",
        "from keras.preprocessing.image import ImageDataGenerator,load_img, img_to_array\n",
        "from keras.models import Sequential\n",
        "from keras.layers import Conv2D, MaxPooling2D, Dense, Dropout, Input, Flatten, SeparableConv2D\n",
        "from keras.layers import Dense, Conv2D, Activation, MaxPool2D, Flatten, Dropout, BatchNormalization\n",
        "from keras.layers import GlobalMaxPooling2D\n",
        "from keras.layers.normalization import BatchNormalization\n",
        "import keras\n",
        "from keras.layers.merge import Concatenate\n",
        "from keras.models import Model\n",
        "from keras.optimizers import Adam, SGD, RMSprop\n",
        "from keras.callbacks import ModelCheckpoint, Callback, EarlyStopping\n",
        "from keras.utils import to_categorical\n",
        "from sklearn.model_selection import train_test_split\n",
        "from sklearn.preprocessing import StandardScaler\n",
        "from keras.callbacks import ReduceLROnPlateau, LearningRateScheduler\n",
        "from mlxtend.plotting import plot_confusion_matrix\n",
        "from sklearn.preprocessing import LabelEncoder\n",
        "from sklearn.metrics import confusion_matrix\n",
        "import cv2\n",
        "from keras import backend as K\n",
        "import tensorflow as tf\n",
        "color = sns.color_palette()\n",
        "\n",
        "%matplotlib inline"
      ],
      "execution_count": 0,
      "outputs": []
    },
    {
      "cell_type": "code",
      "metadata": {
        "id": "rxwLj95yArxQ",
        "colab_type": "code",
        "outputId": "712dccd2-6c7d-4f20-a1d8-24fc869418f5",
        "colab": {
          "base_uri": "https://localhost:8080/",
          "height": 50
        }
      },
      "source": [
        "from keras.datasets import mnist\n",
        "(X_train, y_train), (X_test, y_test) = mnist.load_data()"
      ],
      "execution_count": 2,
      "outputs": [
        {
          "output_type": "stream",
          "text": [
            "Downloading data from https://s3.amazonaws.com/img-datasets/mnist.npz\n",
            "11493376/11490434 [==============================] - 2s 0us/step\n"
          ],
          "name": "stdout"
        }
      ]
    },
    {
      "cell_type": "code",
      "metadata": {
        "id": "S-BhwIzbA_N2",
        "colab_type": "code",
        "outputId": "23afd2fe-384b-45de-d9c9-14730b34a663",
        "colab": {
          "base_uri": "https://localhost:8080/",
          "height": 50
        }
      },
      "source": [
        "print(X_train.shape)\n",
        "print(y_train.shape)"
      ],
      "execution_count": 3,
      "outputs": [
        {
          "output_type": "stream",
          "text": [
            "(60000, 28, 28)\n",
            "(60000,)\n"
          ],
          "name": "stdout"
        }
      ]
    },
    {
      "cell_type": "code",
      "metadata": {
        "id": "KsMSqsFAJz4J",
        "colab_type": "code",
        "colab": {
          "base_uri": "https://localhost:8080/",
          "height": 551
        },
        "outputId": "913f1547-cd37-47da-e17b-c906487e82d0"
      },
      "source": [
        "fig = plt.figure()\n",
        "for i in range(9):\n",
        "  plt.subplot(3,3,i+1)\n",
        "  plt.tight_layout()\n",
        "  plt.imshow(X_train[i], cmap='gray', interpolation='none')\n",
        "  plt.title(\"Digit: {}\".format(y_train[i]))\n",
        "  plt.xticks([])\n",
        "  plt.yticks([])\n",
        "fig"
      ],
      "execution_count": 4,
      "outputs": [
        {
          "output_type": "execute_result",
          "data": {
            "image/png": "[encoded data removed]",
            "text/plain": [
              "<Figure size 432x288 with 9 Axes>"
            ]
          },
          "metadata": {
            "tags": []
          },
          "execution_count": 4
        },
        {
          "output_type": "display_data",
          "data": {
            "image/png": "[encoded data removed]",
            "text/plain": [
              "<Figure size 432x288 with 9 Axes>"
            ]
          },
          "metadata": {
            "tags": []
          }
        }
      ]
    },
    {
      "cell_type": "code",
      "metadata": {
        "id": "XnJJqPcgDza3",
        "colab_type": "code",
        "colab": {}
      },
      "source": [
        "train_info = []\n",
        "for i in range(60000):\n",
        "  train_info.append((X_train[i],int(y_train[i])))"
      ],
      "execution_count": 0,
      "outputs": []
    },
    {
      "cell_type": "code",
      "metadata": {
        "id": "zT32r3KxF8e5",
        "colab_type": "code",
        "colab": {
          "base_uri": "https://localhost:8080/",
          "height": 195
        },
        "outputId": "49bcfada-a18d-44a9-eef7-c121626b11d2"
      },
      "source": [
        "train_info = pd.DataFrame(train_info, columns=['image', 'label'],index=None)\n",
        "train_info.head()"
      ],
      "execution_count": 6,
      "outputs": [
        {
          "output_type": "execute_result",
          "data": {
            "text/html": [
              "<div>\n",
              "<style scoped>\n",
              "    .dataframe tbody tr th:only-of-type {\n",
              "        vertical-align: middle;\n",
              "    }\n",
              "\n",
              "    .dataframe tbody tr th {\n",
              "        vertical-align: top;\n",
              "    }\n",
              "\n",
              "    .dataframe thead th {\n",
              "        text-align: right;\n",
              "    }\n",
              "</style>\n",
              "<table border=\"1\" class=\"dataframe\">\n",
              "  <thead>\n",
              "    <tr style=\"text-align: right;\">\n",
              "      <th></th>\n",
              "      <th>image</th>\n",
              "      <th>label</th>\n",
              "    </tr>\n",
              "  </thead>\n",
              "  <tbody>\n",
              "    <tr>\n",
              "      <th>0</th>\n",
              "      <td>[[0, 0, 0, 0, 0, 0, 0, 0, 0, 0, 0, 0, 0, 0, 0,...</td>\n",
              "      <td>5</td>\n",
              "    </tr>\n",
              "    <tr>\n",
              "      <th>1</th>\n",
              "      <td>[[0, 0, 0, 0, 0, 0, 0, 0, 0, 0, 0, 0, 0, 0, 0,...</td>\n",
              "      <td>0</td>\n",
              "    </tr>\n",
              "    <tr>\n",
              "      <th>2</th>\n",
              "      <td>[[0, 0, 0, 0, 0, 0, 0, 0, 0, 0, 0, 0, 0, 0, 0,...</td>\n",
              "      <td>4</td>\n",
              "    </tr>\n",
              "    <tr>\n",
              "      <th>3</th>\n",
              "      <td>[[0, 0, 0, 0, 0, 0, 0, 0, 0, 0, 0, 0, 0, 0, 0,...</td>\n",
              "      <td>1</td>\n",
              "    </tr>\n",
              "    <tr>\n",
              "      <th>4</th>\n",
              "      <td>[[0, 0, 0, 0, 0, 0, 0, 0, 0, 0, 0, 0, 0, 0, 0,...</td>\n",
              "      <td>9</td>\n",
              "    </tr>\n",
              "  </tbody>\n",
              "</table>\n",
              "</div>"
            ],
            "text/plain": [
              "                                               image  label\n",
              "0  [[0, 0, 0, 0, 0, 0, 0, 0, 0, 0, 0, 0, 0, 0, 0,...      5\n",
              "1  [[0, 0, 0, 0, 0, 0, 0, 0, 0, 0, 0, 0, 0, 0, 0,...      0\n",
              "2  [[0, 0, 0, 0, 0, 0, 0, 0, 0, 0, 0, 0, 0, 0, 0,...      4\n",
              "3  [[0, 0, 0, 0, 0, 0, 0, 0, 0, 0, 0, 0, 0, 0, 0,...      1\n",
              "4  [[0, 0, 0, 0, 0, 0, 0, 0, 0, 0, 0, 0, 0, 0, 0,...      9"
            ]
          },
          "metadata": {
            "tags": []
          },
          "execution_count": 6
        }
      ]
    },
    {
      "cell_type": "code",
      "metadata": {
        "id": "zXRrP3IXHrwE",
        "colab_type": "code",
        "colab": {
          "base_uri": "https://localhost:8080/",
          "height": 702
        },
        "outputId": "8afcee44-32dd-47a9-b393-fc8cdaf41586"
      },
      "source": [
        "# Get the counts for each class\n",
        "cases_count = train_info['label'].value_counts()\n",
        "print(cases_count)\n",
        "\n",
        "# Plot the results \n",
        "plt.figure(figsize=(10,8))\n",
        "sns.barplot(x=cases_count.index, y= cases_count.values)\n",
        "plt.title('All data', fontsize=14)\n",
        "plt.xlabel('Types of digit', fontsize=12)\n",
        "plt.ylabel('Count', fontsize=12)\n",
        "plt.xticks(range(len(cases_count.index)), ['0','1','2','3','4','5','6','7','8','9'])\n",
        "plt.show()"
      ],
      "execution_count": 7,
      "outputs": [
        {
          "output_type": "stream",
          "text": [
            "1    6742\n",
            "7    6265\n",
            "3    6131\n",
            "2    5958\n",
            "9    5949\n",
            "0    5923\n",
            "6    5918\n",
            "8    5851\n",
            "4    5842\n",
            "5    5421\n",
            "Name: label, dtype: int64\n"
          ],
          "name": "stdout"
        },
        {
          "output_type": "display_data",
          "data": {
            "image/png": "[encoded data removed]",
            "text/plain": [
              "<Figure size 720x576 with 1 Axes>"
            ]
          },
          "metadata": {
            "tags": [],
            "needs_background": "light"
          }
        }
      ]
    },
    {
      "cell_type": "code",
      "metadata": {
        "id": "VvNApE00IAjH",
        "colab_type": "code",
        "colab": {}
      },
      "source": [
        "X_train = X_train.reshape((-1, 28, 28, 1))\n",
        "X_test = X_test.reshape((-1, 28, 28, 1))\n",
        "X_train = X_train/255.0\n",
        "X_test = X_test/255.0"
      ],
      "execution_count": 0,
      "outputs": []
    },
    {
      "cell_type": "code",
      "metadata": {
        "id": "ezJcGzlFTpbZ",
        "colab_type": "code",
        "colab": {}
      },
      "source": [
        "model = Sequential()\n",
        "\n",
        "#1. LAYER\n",
        "model.add(Conv2D(filters = 32, kernel_size = (3,3), padding = 'Same', input_shape=(28, 28, 1)))\n",
        "model.add(BatchNormalization())\n",
        "model.add(Activation(\"relu\"))\n",
        "\n",
        "#2. LAYER\n",
        "model.add(Conv2D(filters = 32, kernel_size = (3,3), padding = 'Same'))\n",
        "model.add(BatchNormalization())\n",
        "model.add(Activation(\"relu\"))\n",
        "\n",
        "model.add(MaxPool2D(pool_size=(2, 2)))\n",
        "\n",
        "#3. LAYER\n",
        "model.add(Conv2D(filters = 64, kernel_size = (3,3), padding = 'Same'))\n",
        "model.add(BatchNormalization())\n",
        "model.add(Activation(\"relu\"))\n",
        "\n",
        "#4. LAYER\n",
        "model.add(Conv2D(filters = 64, kernel_size = (3,3), padding = 'Same'))\n",
        "model.add(BatchNormalization())\n",
        "model.add(Activation(\"relu\"))\n",
        "\n",
        "model.add(MaxPool2D(pool_size=(2, 2)))\n",
        "\n",
        "#FULLY CONNECTED LAYER\n",
        "model.add(Flatten())\n",
        "model.add(Dense(512))\n",
        "model.add(BatchNormalization())\n",
        "model.add(Activation(\"relu\"))\n",
        "model.add(Dropout(0.25))\n",
        "\n",
        "#OUTPUT LAYER\n",
        "model.add(Dense(10, activation='softmax'))"
      ],
      "execution_count": 0,
      "outputs": []
    },
    {
      "cell_type": "code",
      "metadata": {
        "id": "Lb1bGo9AUEJ2",
        "colab_type": "code",
        "colab": {
          "base_uri": "https://localhost:8080/",
          "height": 823
        },
        "outputId": "3d4b6e44-65b2-4940-a0cf-b78a0062fbab"
      },
      "source": [
        "model.summary()"
      ],
      "execution_count": 10,
      "outputs": [
        {
          "output_type": "stream",
          "text": [
            "Model: \"sequential_1\"\n",
            "_________________________________________________________________\n",
            "Layer (type)                 Output Shape              Param #   \n",
            "=================================================================\n",
            "conv2d_1 (Conv2D)            (None, 28, 28, 32)        320       \n",
            "_________________________________________________________________\n",
            "batch_normalization_1 (Batch (None, 28, 28, 32)        128       \n",
            "_________________________________________________________________\n",
            "activation_1 (Activation)    (None, 28, 28, 32)        0         \n",
            "_________________________________________________________________\n",
            "conv2d_2 (Conv2D)            (None, 28, 28, 32)        9248      \n",
            "_________________________________________________________________\n",
            "batch_normalization_2 (Batch (None, 28, 28, 32)        128       \n",
            "_________________________________________________________________\n",
            "activation_2 (Activation)    (None, 28, 28, 32)        0         \n",
            "_________________________________________________________________\n",
            "max_pooling2d_1 (MaxPooling2 (None, 14, 14, 32)        0         \n",
            "_________________________________________________________________\n",
            "conv2d_3 (Conv2D)            (None, 14, 14, 64)        18496     \n",
            "_________________________________________________________________\n",
            "batch_normalization_3 (Batch (None, 14, 14, 64)        256       \n",
            "_________________________________________________________________\n",
            "activation_3 (Activation)    (None, 14, 14, 64)        0         \n",
            "_________________________________________________________________\n",
            "conv2d_4 (Conv2D)            (None, 14, 14, 64)        36928     \n",
            "_________________________________________________________________\n",
            "batch_normalization_4 (Batch (None, 14, 14, 64)        256       \n",
            "_________________________________________________________________\n",
            "activation_4 (Activation)    (None, 14, 14, 64)        0         \n",
            "_________________________________________________________________\n",
            "max_pooling2d_2 (MaxPooling2 (None, 7, 7, 64)          0         \n",
            "_________________________________________________________________\n",
            "flatten_1 (Flatten)          (None, 3136)              0         \n",
            "_________________________________________________________________\n",
            "dense_1 (Dense)              (None, 512)               1606144   \n",
            "_________________________________________________________________\n",
            "batch_normalization_5 (Batch (None, 512)               2048      \n",
            "_________________________________________________________________\n",
            "activation_5 (Activation)    (None, 512)               0         \n",
            "_________________________________________________________________\n",
            "dropout_1 (Dropout)          (None, 512)               0         \n",
            "_________________________________________________________________\n",
            "dense_2 (Dense)              (None, 10)                5130      \n",
            "=================================================================\n",
            "Total params: 1,679,082\n",
            "Trainable params: 1,677,674\n",
            "Non-trainable params: 1,408\n",
            "_________________________________________________________________\n"
          ],
          "name": "stdout"
        }
      ]
    },
    {
      "cell_type": "code",
      "metadata": {
        "id": "UGKQ0HNjT6_K",
        "colab_type": "code",
        "colab": {}
      },
      "source": [
        "model.compile(optimizer='adam',\n",
        "              loss='sparse_categorical_crossentropy',\n",
        "              metrics=['accuracy'])"
      ],
      "execution_count": 0,
      "outputs": []
    },
    {
      "cell_type": "code",
      "metadata": {
        "id": "MAcHxMLQUId2",
        "colab_type": "code",
        "colab": {}
      },
      "source": [
        "class CollectBatchStats(tf.keras.callbacks.Callback):\n",
        "    def __init__(self):\n",
        "        self.batch_losses = []\n",
        "        self.batch_acc = []\n",
        "\n",
        "    def on_batch_end(self, batch, logs=None):\n",
        "        self.batch_losses.append(logs['loss'])\n",
        "        self.batch_acc.append(logs['acc'])\n",
        "\n",
        "batch_stats = CollectBatchStats()"
      ],
      "execution_count": 0,
      "outputs": []
    },
    {
      "cell_type": "code",
      "metadata": {
        "id": "MjN2K9QAUOCl",
        "colab_type": "code",
        "colab": {
          "base_uri": "https://localhost:8080/",
          "height": 1000
        },
        "outputId": "3b39e350-9050-405c-9c8f-e326196e5c75"
      },
      "source": [
        "reduce_lr = LearningRateScheduler(lambda x: 1e-3 * 0.9 ** x)\n",
        "aug_num = 10 \n",
        "datagen = ImageDataGenerator(\n",
        "        featurewise_center=False,  # set input mean to 0 over the dataset\n",
        "        samplewise_center=False,  # set each sample mean to 0\n",
        "        featurewise_std_normalization=False,  # divide inputs by std of the dataset\n",
        "        samplewise_std_normalization=False,  # divide each input by its std\n",
        "        zca_whitening=False,  # apply ZCA whitening\n",
        "        rotation_range= 0.8,  # randomly rotate images in the range (degrees, 0 to 180)\n",
        "        zoom_range = aug_num / 100, # Randomly zoom image \n",
        "        width_shift_range= aug_num / 100,  # randomly shift images horizontally (fraction of total width)\n",
        "        height_shift_range= aug_num / 100,  # randomly shift images vertically (fraction of total height)\n",
        "        horizontal_flip=0.05,  # randomly flip images horizontally\n",
        "        vertical_flip=True)  # randomly flip images vertically\n",
        "        \n",
        "datagen.fit(X_train)\n",
        "batch_size = 128\n",
        "epochs =  30\n",
        "# Fit the Model\n",
        "history = model.fit_generator(datagen.flow(X_train, y_train, batch_size = batch_size), epochs = epochs, \n",
        "                              validation_data = (X_test, y_test), verbose=2, \n",
        "                              steps_per_epoch=X_train.shape[0] // batch_size,\n",
        "                              callbacks=[reduce_lr])"
      ],
      "execution_count": 13,
      "outputs": [
        {
          "output_type": "stream",
          "text": [
            "Epoch 1/30\n",
            " - 34s - loss: 0.4066 - accuracy: 0.8656 - val_loss: 3.8753 - val_accuracy: 0.2895\n",
            "Epoch 2/30\n",
            " - 28s - loss: 0.2034 - accuracy: 0.9334 - val_loss: 0.2009 - val_accuracy: 0.9349\n",
            "Epoch 3/30\n",
            " - 27s - loss: 0.1699 - accuracy: 0.9433 - val_loss: 0.1210 - val_accuracy: 0.9619\n",
            "Epoch 4/30\n",
            " - 27s - loss: 0.1519 - accuracy: 0.9496 - val_loss: 0.1644 - val_accuracy: 0.9471\n",
            "Epoch 5/30\n",
            " - 27s - loss: 0.1401 - accuracy: 0.9535 - val_loss: 0.1115 - val_accuracy: 0.9634\n",
            "Epoch 6/30\n",
            " - 27s - loss: 0.1338 - accuracy: 0.9552 - val_loss: 0.1494 - val_accuracy: 0.9509\n",
            "Epoch 7/30\n",
            " - 27s - loss: 0.1227 - accuracy: 0.9598 - val_loss: 0.1411 - val_accuracy: 0.9504\n",
            "Epoch 8/30\n",
            " - 27s - loss: 0.1159 - accuracy: 0.9615 - val_loss: 0.0935 - val_accuracy: 0.9686\n",
            "Epoch 9/30\n",
            " - 27s - loss: 0.1120 - accuracy: 0.9622 - val_loss: 0.1090 - val_accuracy: 0.9628\n",
            "Epoch 10/30\n",
            " - 28s - loss: 0.1058 - accuracy: 0.9643 - val_loss: 0.1180 - val_accuracy: 0.9600\n",
            "Epoch 11/30\n",
            " - 28s - loss: 0.1029 - accuracy: 0.9643 - val_loss: 0.1116 - val_accuracy: 0.9635\n",
            "Epoch 12/30\n",
            " - 27s - loss: 0.1000 - accuracy: 0.9670 - val_loss: 0.0863 - val_accuracy: 0.9702\n",
            "Epoch 13/30\n",
            " - 27s - loss: 0.0974 - accuracy: 0.9679 - val_loss: 0.0957 - val_accuracy: 0.9678\n",
            "Epoch 14/30\n",
            " - 27s - loss: 0.0947 - accuracy: 0.9682 - val_loss: 0.0896 - val_accuracy: 0.9703\n",
            "Epoch 15/30\n",
            " - 27s - loss: 0.0891 - accuracy: 0.9698 - val_loss: 0.0775 - val_accuracy: 0.9746\n",
            "Epoch 16/30\n",
            " - 27s - loss: 0.0873 - accuracy: 0.9703 - val_loss: 0.0948 - val_accuracy: 0.9686\n",
            "Epoch 17/30\n",
            " - 27s - loss: 0.0870 - accuracy: 0.9704 - val_loss: 0.0777 - val_accuracy: 0.9740\n",
            "Epoch 18/30\n",
            " - 27s - loss: 0.0817 - accuracy: 0.9726 - val_loss: 0.0910 - val_accuracy: 0.9689\n",
            "Epoch 19/30\n",
            " - 27s - loss: 0.0826 - accuracy: 0.9716 - val_loss: 0.0717 - val_accuracy: 0.9768\n",
            "Epoch 20/30\n",
            " - 27s - loss: 0.0804 - accuracy: 0.9722 - val_loss: 0.0833 - val_accuracy: 0.9732\n",
            "Epoch 21/30\n",
            " - 27s - loss: 0.0786 - accuracy: 0.9727 - val_loss: 0.0814 - val_accuracy: 0.9730\n",
            "Epoch 22/30\n",
            " - 27s - loss: 0.0795 - accuracy: 0.9728 - val_loss: 0.0747 - val_accuracy: 0.9744\n",
            "Epoch 23/30\n",
            " - 27s - loss: 0.0761 - accuracy: 0.9738 - val_loss: 0.0769 - val_accuracy: 0.9755\n",
            "Epoch 24/30\n",
            " - 27s - loss: 0.0734 - accuracy: 0.9754 - val_loss: 0.0807 - val_accuracy: 0.9740\n",
            "Epoch 25/30\n",
            " - 27s - loss: 0.0748 - accuracy: 0.9749 - val_loss: 0.0777 - val_accuracy: 0.9733\n",
            "Epoch 26/30\n",
            " - 27s - loss: 0.0746 - accuracy: 0.9748 - val_loss: 0.0799 - val_accuracy: 0.9730\n",
            "Epoch 27/30\n",
            " - 27s - loss: 0.0728 - accuracy: 0.9751 - val_loss: 0.0775 - val_accuracy: 0.9743\n",
            "Epoch 28/30\n",
            " - 27s - loss: 0.0711 - accuracy: 0.9758 - val_loss: 0.0759 - val_accuracy: 0.9749\n",
            "Epoch 29/30\n",
            " - 27s - loss: 0.0726 - accuracy: 0.9757 - val_loss: 0.0747 - val_accuracy: 0.9743\n",
            "Epoch 30/30\n",
            " - 27s - loss: 0.0709 - accuracy: 0.9751 - val_loss: 0.0692 - val_accuracy: 0.9756\n"
          ],
          "name": "stdout"
        }
      ]
    },
    {
      "cell_type": "code",
      "metadata": {
        "id": "c7Qi9xxpUbUx",
        "colab_type": "code",
        "colab": {
          "base_uri": "https://localhost:8080/",
          "height": 370
        },
        "outputId": "fe618485-0af3-459a-addd-c7326a6df348"
      },
      "source": [
        "plt.figure(figsize=(14,5))\n",
        "plt.subplot(1, 2, 1)\n",
        "plt.suptitle('Train Results', fontsize=10)\n",
        "plt.xlabel(\"Number of Epochs\")\n",
        "plt.ylabel('Loss', fontsize=16)\n",
        "plt.plot(history.history['loss'], color='b', label='Training Loss')\n",
        "plt.plot(history.history['val_loss'], color='r', label='Validation Loss')\n",
        "plt.legend(loc='upper right')\n",
        "\n",
        "plt.subplot(1, 2, 2)\n",
        "plt.ylabel('Accuracy', fontsize=16)\n",
        "plt.plot(history.history['accuracy'], color='green', label='Training Accuracy')\n",
        "plt.plot(history.history['val_accuracy'], color='orange', label='Validation Accuracy')\n",
        "plt.legend(loc='lower right')\n",
        "plt.show()"
      ],
      "execution_count": 14,
      "outputs": [
        {
          "output_type": "display_data",
          "data": {
            "image/png": "[encoded data removed]",
            "text/plain": [
              "<Figure size 1008x360 with 2 Axes>"
            ]
          },
          "metadata": {
            "tags": [],
            "needs_background": "light"
          }
        }
      ]
    },
    {
      "cell_type": "code",
      "metadata": {
        "id": "XHlCkul0dqWB",
        "colab_type": "code",
        "colab": {
          "base_uri": "https://localhost:8080/",
          "height": 34
        },
        "outputId": "79bb3435-bd22-439e-b68f-b92b5e18c52d"
      },
      "source": [
        "print('Train accuracy of the model: ',history.history['accuracy'][-1])"
      ],
      "execution_count": 15,
      "outputs": [
        {
          "output_type": "stream",
          "text": [
            "Train accuracy of the model:  0.9751136\n"
          ],
          "name": "stdout"
        }
      ]
    },
    {
      "cell_type": "code",
      "metadata": {
        "id": "xwrJrEGgd0PV",
        "colab_type": "code",
        "colab": {
          "base_uri": "https://localhost:8080/",
          "height": 34
        },
        "outputId": "2261224b-a5b0-4b57-d89f-ecdf1bc7549d"
      },
      "source": [
        "print('Train loss of the model: ',history.history['loss'][-1])"
      ],
      "execution_count": 16,
      "outputs": [
        {
          "output_type": "stream",
          "text": [
            "Train loss of the model:  0.07093283505179486\n"
          ],
          "name": "stdout"
        }
      ]
    },
    {
      "cell_type": "code",
      "metadata": {
        "id": "sTCdZYH6d2oB",
        "colab_type": "code",
        "colab": {
          "base_uri": "https://localhost:8080/",
          "height": 34
        },
        "outputId": "bcbfbaea-b347-4159-af81-04a84c3c7232"
      },
      "source": [
        "print('Validation accuracy of the model: ',history.history['val_accuracy'][-1])"
      ],
      "execution_count": 17,
      "outputs": [
        {
          "output_type": "stream",
          "text": [
            "Validation accuracy of the model:  0.975600004196167\n"
          ],
          "name": "stdout"
        }
      ]
    },
    {
      "cell_type": "code",
      "metadata": {
        "id": "suRaaEFed6ZG",
        "colab_type": "code",
        "colab": {
          "base_uri": "https://localhost:8080/",
          "height": 34
        },
        "outputId": "ba4716a1-e64f-45b8-ee07-49def906703c"
      },
      "source": [
        "\n",
        "print('Validation loss of the model: ',history.history['val_loss'][-1])"
      ],
      "execution_count": 18,
      "outputs": [
        {
          "output_type": "stream",
          "text": [
            "Validation loss of the model:  0.06922212003171443\n"
          ],
          "name": "stdout"
        }
      ]
    },
    {
      "cell_type": "code",
      "metadata": {
        "id": "iX6anJdfd6pZ",
        "colab_type": "code",
        "colab": {
          "base_uri": "https://localhost:8080/",
          "height": 50
        },
        "outputId": "039ad083-bc1b-4635-cee5-de019fc5f030"
      },
      "source": [
        "score = model.evaluate(X_test,y_test,verbose=0)\n",
        "print(\"Test Loss:\",score[0])\n",
        "print(\"Test Accuracy:\",score[1])"
      ],
      "execution_count": 19,
      "outputs": [
        {
          "output_type": "stream",
          "text": [
            "Test Loss: 0.06922212151885032\n",
            "Test Accuracy: 0.975600004196167\n"
          ],
          "name": "stdout"
        }
      ]
    },
    {
      "cell_type": "code",
      "metadata": {
        "id": "MQFVC6dzeMzl",
        "colab_type": "code",
        "colab": {
          "base_uri": "https://localhost:8080/",
          "height": 248
        },
        "outputId": "b9fd7d7b-7ef3-4697-b3b8-3e8643010080"
      },
      "source": [
        "plt.imshow(X_test[1].reshape(28,28),cmap=\"gray\")\n",
        "plt.axis(\"off\")\n",
        "plt.show()"
      ],
      "execution_count": 21,
      "outputs": [
        {
          "output_type": "display_data",
          "data": {
            "image/png": "[encoded data removed]",
            "text/plain": [
              "<Figure size 432x288 with 1 Axes>"
            ]
          },
          "metadata": {
            "tags": [],
            "needs_background": "light"
          }
        }
      ]
    },
    {
      "cell_type": "code",
      "metadata": {
        "id": "Ns37saL_eQt7",
        "colab_type": "code",
        "colab": {
          "base_uri": "https://localhost:8080/",
          "height": 84
        },
        "outputId": "1b8b463e-e040-44d1-c8c0-e4395687be6e"
      },
      "source": [
        "trueY = y_test[1]\n",
        "img = X_test[1]\n",
        "test_img = img.reshape(1,28,28,1)\n",
        "\n",
        "preds = model.predict_classes(test_img)\n",
        "prob = model.predict_proba(test_img)\n",
        "\n",
        "print(\"trueY: \",np.argmax(trueY))\n",
        "print(\"Preds: \",preds)\n",
        "print(\"Prob: \",prob)"
      ],
      "execution_count": 23,
      "outputs": [
        {
          "output_type": "stream",
          "text": [
            "trueY:  0\n",
            "Preds:  [2]\n",
            "Prob:  [[1.3092156e-06 6.7998343e-07 9.8362666e-01 4.9070309e-07 3.8953479e-10\n",
            "  1.5148626e-02 6.2596218e-06 1.2153889e-03 1.1991613e-08 5.7843113e-07]]\n"
          ],
          "name": "stdout"
        }
      ]
    },
    {
      "cell_type": "code",
      "metadata": {
        "id": "nHSXTfbkeUWt",
        "colab_type": "code",
        "colab": {
          "base_uri": "https://localhost:8080/",
          "height": 50
        },
        "outputId": "fa4197ee-b5c4-42b1-8be3-013744370f95"
      },
      "source": [
        "from keras.utils.np_utils import to_categorical \n",
        "\n",
        "# convert to one-hot-encoding(one hot vectors)\n",
        "Y_train = to_categorical(y_train, num_classes = 10)\n",
        "# convert to one-hot-encoding(one hot vectors)\n",
        "Y_test = to_categorical(y_test, num_classes = 10)\n",
        "\n",
        "print(Y_train.shape)\n",
        "print(Y_test.shape)"
      ],
      "execution_count": 24,
      "outputs": [
        {
          "output_type": "stream",
          "text": [
            "(60000, 10)\n",
            "(10000, 10)\n"
          ],
          "name": "stdout"
        }
      ]
    },
    {
      "cell_type": "code",
      "metadata": {
        "id": "TlNhHpbXezJD",
        "colab_type": "code",
        "colab": {}
      },
      "source": [
        "def plot_confusion_matrix(cm, classes,\n",
        "                          normalize=False,\n",
        "                          title='Confusion matrix',\n",
        "                          cmap=plt.cm.Blues):\n",
        "    \n",
        "    plt.imshow(cm, interpolation='nearest', cmap=cmap)\n",
        "    plt.title(title)\n",
        "    plt.colorbar()\n",
        "    tick_marks = np.arange(len(classes))\n",
        "    plt.xticks(tick_marks, classes, rotation=90)\n",
        "    plt.yticks(tick_marks, classes)\n",
        "\n",
        "    if normalize:\n",
        "        cm = cm.astype('float') / cm.sum(axis=1)[:, np.newaxis]\n",
        "\n",
        "    thresh = cm.max() / 2.\n",
        "    for i, j in itertools.product(range(cm.shape[0]), range(cm.shape[1])):\n",
        "        plt.text(j, i, cm[i, j],\n",
        "                 horizontalalignment=\"center\",\n",
        "                 color=\"white\" if cm[i, j] > thresh else \"black\")\n",
        "\n",
        "    plt.tight_layout()\n",
        "    plt.ylabel('True label')\n",
        "    plt.xlabel('Predicted label')"
      ],
      "execution_count": 0,
      "outputs": []
    },
    {
      "cell_type": "code",
      "metadata": {
        "id": "8O7xqswIe2aZ",
        "colab_type": "code",
        "colab": {
          "base_uri": "https://localhost:8080/",
          "height": 730
        },
        "outputId": "df65b4ea-8345-4d10-97c3-54d8e2fe716a"
      },
      "source": [
        "Y_pred = model.predict(X_test)\n",
        "Y_pred_classes = np.argmax(Y_pred, axis = 1)\n",
        "Y_true = np.argmax(Y_test, axis = 1)\n",
        "confusion_mtx = confusion_matrix(Y_true, Y_pred_classes) \n",
        "\n",
        "f,ax = plt.subplots(figsize = (12,12))\n",
        "sns.heatmap(confusion_mtx, annot=True, linewidths=0.1, cmap = \"gist_yarg_r\", linecolor=\"black\", fmt='.0f', ax=ax)\n",
        "plt.xlabel(\"Predicted Label\")\n",
        "plt.ylabel(\"True Label\")\n",
        "plt.title(\"Confusion Matrix\")\n",
        "plt.show()"
      ],
      "execution_count": 27,
      "outputs": [
        {
          "output_type": "display_data",
          "data": {
            "image/png": "[encoded data removed]",
            "text/plain": [
              "<Figure size 864x864 with 2 Axes>"
            ]
          },
          "metadata": {
            "tags": [],
            "needs_background": "light"
          }
        }
      ]
    },
    {
      "cell_type": "code",
      "metadata": {
        "id": "AZutJnB_e41d",
        "colab_type": "code",
        "colab": {}
      },
      "source": [
        "model.save('digit.h5')"
      ],
      "execution_count": 0,
      "outputs": []
    },
    {
      "cell_type": "code",
      "metadata": {
        "id": "euFiQrpjhM0g",
        "colab_type": "code",
        "colab": {}
      },
      "source": [
        ""
      ],
      "execution_count": 0,
      "outputs": []
    },
    {
      "cell_type": "code",
      "metadata": {
        "id": "jkxOJfzbfDqe",
        "colab_type": "code",
        "colab": {}
      },
      "source": [
        ""
      ],
      "execution_count": 0,
      "outputs": []
    }
  ]
}